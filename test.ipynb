{
 "cells": [
  {
   "cell_type": "code",
   "execution_count": 1,
   "metadata": {},
   "outputs": [
    {
     "name": "stdout",
     "output_type": "stream",
     "text": [
      "Converted C:\\Users\\iamgu\\Documents\\GitHub\\opencxr\\tests\\resources\\tmp_test_outputs\\c0005_lungseg.mha to C:\\Users\\iamgu\\Documents\\GitHub\\opencxr\\tests\\resources\\tmp_test_outputs\\c0005_lungseg.png\n"
     ]
    }
   ],
   "source": [
    "import SimpleITK as sitk\n",
    "import numpy as np\n",
    "from PIL import Image\n",
    "from pathlib import Path\n",
    "\n",
    "def convert_mha_to_png(mha_path, png_path):\n",
    "    # Read the .mha file\n",
    "    image = sitk.ReadImage(str(mha_path))\n",
    "    image_array = sitk.GetArrayFromImage(image)\n",
    "\n",
    "    # Normalize the image array to the range [0, 255]\n",
    "    image_array = (image_array - np.min(image_array)) / (np.max(image_array) - np.min(image_array)) * 255\n",
    "    image_array = image_array.astype(np.uint8)\n",
    "\n",
    "    # Save as PNG\n",
    "    Image.fromarray(image_array).save(str(png_path))\n",
    "    print(f\"Converted {mha_path} to {png_path}\")\n",
    "\n",
    "# Define the input and output paths\n",
    "mha_path = Path(\"C:/Users/iamgu/Documents/GitHub/opencxr/tests/resources/tmp_test_outputs/c0005_lungseg.mha\")\n",
    "png_path = Path(\"C:/Users/iamgu/Documents/GitHub/opencxr/tests/resources/tmp_test_outputs/c0005_lungseg.png\")\n",
    "\n",
    "# Convert the file\n",
    "convert_mha_to_png(mha_path, png_path)\n"
   ]
  }
 ],
 "metadata": {
  "kernelspec": {
   "display_name": "opencxr_env",
   "language": "python",
   "name": "python3"
  },
  "language_info": {
   "codemirror_mode": {
    "name": "ipython",
    "version": 3
   },
   "file_extension": ".py",
   "mimetype": "text/x-python",
   "name": "python",
   "nbconvert_exporter": "python",
   "pygments_lexer": "ipython3",
   "version": "3.12.0"
  }
 },
 "nbformat": 4,
 "nbformat_minor": 2
}
